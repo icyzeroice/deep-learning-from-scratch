{
 "cells": [
  {
   "cell_type": "markdown",
   "metadata": {
    "slideshow": {
     "slide_type": "slide"
    }
   },
   "source": [
    "Chapter 4 Learn Neural Networks\n",
    "===\n",
    "\n",
    "# Loss Function\n",
    "\n",
    "> 损失函数\n",
    ">> \n",
    "\n",
    "### Mean Squared Error\n",
    "\n",
    "> 均方误差\n",
    "\n",
    "\n",
    "### Cross Entropy Error\n",
    "\n",
    "> 交叉熵误差"
   ]
  },
  {
   "cell_type": "markdown",
   "metadata": {},
   "source": [
    "### mini-batch 学习\n",
    "\n",
    "**使用训练数据进行学习**:\n",
    "\n",
    "  针对训练数据计算损失函数的值，并找出使该值（数据集损失函数总和的**正规化** `normalization`）尽可能小的参数。\n",
    "  \n",
    "  \n",
    "**mini-batch 学习**\n",
    "\n",
    "  因为大数据的数据量在百万千万以上，全部进行损失函数的计算不现实，所以 **从训练数据中选出一部分数据**，称为 **mini-batch**，再对之进行学习。\n",
    "  \n",
    "  > 如，从 60000 个数据中抽出 100 个进行学习。\n",
    "  \n"
   ]
  },
  {
   "cell_type": "markdown",
   "metadata": {
    "slideshow": {
     "slide_type": "-"
    }
   },
   "source": [
    "# 函数微分\n",
    "\n",
    "### 导数\n",
    "\n",
    "> 具体请学习《高等数学》\n",
    "\n",
    "### 偏导数\n",
    "\n",
    "> 多变量下，求某一变量在其他变量为确定值时的导数\n",
    "> 具体请学习《高等数学》\n",
    "\n",
    "### 梯度\n",
    "\n",
    "> 各点处函数值减少最多的方向\n",
    "\n",
    "**极小值**\n",
    "\n",
    "> 局部最小值\n",
    "\n",
    "**梯度法**\n",
    "\n",
    "> 函数取值，从当前位置沿梯度方向前进一定距离，然后在新的地方重新求梯度，如此反复，**不断沿梯度方向前进，逐渐减小函数值的过程**。\n",
    "\n",
    "**梯度下降法** <---可加负号相互转换---> **梯度上升法**"
   ]
  },
  {
   "cell_type": "markdown",
   "metadata": {},
   "source": [
    "### 学习率（Learning Rate）\n",
    "\n",
    "属于 **超参数**，需要人工手动设定，而非从数据中训练自动学习获得。"
   ]
  },
  {
   "cell_type": "markdown",
   "metadata": {},
   "source": [
    "### 神经网络的梯度\n",
    "\n",
    "损失函数关于权重参数的梯度"
   ]
  }
 ],
 "metadata": {
  "kernelspec": {
   "display_name": "Python 3",
   "language": "python",
   "name": "python3"
  },
  "language_info": {
   "codemirror_mode": {
    "name": "ipython",
    "version": 3
   },
   "file_extension": ".py",
   "mimetype": "text/x-python",
   "name": "python",
   "nbconvert_exporter": "python",
   "pygments_lexer": "ipython3",
   "version": "3.7.1"
  }
 },
 "nbformat": 4,
 "nbformat_minor": 2
}
