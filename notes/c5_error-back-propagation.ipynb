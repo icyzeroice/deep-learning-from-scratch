{
 "cells": [
  {
   "cell_type": "markdown",
   "metadata": {},
   "source": [
    "误差反向传播法\n",
    "===\n",
    "\n",
    "> - 数学式\n",
    "> - 计算图\n",
    "\n",
    "# 计算图\n",
    "\n",
    "1. 构建计算图\n",
    "2. 在计算图上，从左向右进行计算（正向传播）\n",
    "\n",
    "> 从图上从右向左计算即反向传播\n",
    "\n",
    "### 局部计算\n",
    "\n",
    "即单个节点函数只计算自己的输入输出，不考虑全局的计算（函数式）\n",
    "\n",
    "### 反向传播传递变量导数值（比例系数）"
   ]
  },
  {
   "cell_type": "markdown",
   "metadata": {},
   "source": [
    "# 链式法则\n",
    "\n",
    "定义：复合函数的导数可以用构成复合函数的各个函数的导数的乘积表示(就是高次函数的分步求导)\n",
    "\n"
   ]
  },
  {
   "cell_type": "markdown",
   "metadata": {},
   "source": [
    "# 反向传播\n",
    "\n",
    "### 加法节点\n",
    "\n",
    "> 例：z = x + y\n",
    "\n",
    "```\n",
    "正向传播为：\n",
    "\n",
    "x--\n",
    "   \\\n",
    "    v\n",
    "    +--> y\n",
    "    ^\n",
    "   /\n",
    "y--\n",
    "\n",
    "\n",
    "反向传播为：\n",
    "\n",
    "    1 (导数)\n",
    "x <--\n",
    "     \\\n",
    "     + <-- z\n",
    "     /\n",
    "y <--\n",
    "    1 （导数）\n",
    "```\n",
    "\n",
    "> 加法节点只是将输入信号输出到下一个节点"
   ]
  },
  {
   "cell_type": "markdown",
   "metadata": {},
   "source": [
    "### 乘法节点\n",
    "\n",
    "> 例：z = x * y\n",
    "\n",
    "> 乘法的反向传播会乘以输入信号的翻转值"
   ]
  },
  {
   "cell_type": "markdown",
   "metadata": {},
   "source": [
    "# Affine layer\n",
    "\n",
    "forward:\n",
    "\n",
    "X * W + B = Y"
   ]
  },
  {
   "cell_type": "markdown",
   "metadata": {},
   "source": [
    "# Soft-with-Loss layer\n",
    "\n"
   ]
  },
  {
   "cell_type": "code",
   "execution_count": null,
   "metadata": {},
   "outputs": [],
   "source": []
  }
 ],
 "metadata": {
  "kernelspec": {
   "display_name": "Python 3",
   "language": "python",
   "name": "python3"
  },
  "language_info": {
   "codemirror_mode": {
    "name": "ipython",
    "version": 3
   },
   "file_extension": ".py",
   "mimetype": "text/x-python",
   "name": "python",
   "nbconvert_exporter": "python",
   "pygments_lexer": "ipython3",
   "version": "3.7.1"
  }
 },
 "nbformat": 4,
 "nbformat_minor": 2
}
