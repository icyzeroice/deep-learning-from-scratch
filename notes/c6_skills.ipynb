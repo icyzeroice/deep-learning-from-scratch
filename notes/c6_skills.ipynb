{
 "cells": [
  {
   "cell_type": "markdown",
   "metadata": {},
   "source": [
    "第 6 章 - 与学习有关的技巧\n",
    "===\n",
    "\n",
    "# 更新参数\n",
    "\n",
    "**最优化**: 寻找使损失函数的值尽可能小的参数\n",
    "\n",
    "\n",
    "# 优化方法\n",
    "\n",
    "\n",
    "### SGD\n",
    "\n",
    "> `stochastic gradient descent` 随机梯度下降法\n",
    "\n",
    "这里超参 `learning rate` 为固定值\n",
    "\n",
    "### Momentum\n",
    "\n",
    "这里除了 `learning rate` 还有一个 $v$ 来表明在梯度方向上受到的 “力” 是什么\n",
    "\n",
    "### AdaGrad\n",
    "\n",
    "### Adam\n"
   ]
  },
  {
   "cell_type": "markdown",
   "metadata": {},
   "source": []
  }
 ],
 "metadata": {
  "kernelspec": {
   "display_name": "Python 3",
   "language": "python",
   "name": "python3"
  },
  "language_info": {
   "codemirror_mode": {
    "name": "ipython",
    "version": 3
   },
   "file_extension": ".py",
   "mimetype": "text/x-python",
   "name": "python",
   "nbconvert_exporter": "python",
   "pygments_lexer": "ipython3",
   "version": "3.7.1"
  }
 },
 "nbformat": 4,
 "nbformat_minor": 2
}
