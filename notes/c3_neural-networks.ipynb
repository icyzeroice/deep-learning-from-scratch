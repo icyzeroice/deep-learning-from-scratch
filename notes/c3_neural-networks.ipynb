{
 "cells": [
  {
   "cell_type": "markdown",
   "metadata": {},
   "source": [
    "Chapter 3 Neural Networks\n",
    "===\n",
    "\n",
    "\n",
    "- 朴素感知机：单层网络（阶跃函数）\n",
    "\n",
    "- 多层感知机：神经网络（sigmoid 函数等平滑的激活函数的多层网络）\n",
    "\n",
    "\n",
    "\n",
    "# Step Function\n",
    "\n",
    "> 阶跃函数"
   ]
  },
  {
   "cell_type": "code",
   "execution_count": 6,
   "metadata": {},
   "outputs": [],
   "source": [
    "import numpy as np\n",
    "import matplotlib.pylab as plt\n",
    "\n",
    "def step_function(x):\n",
    "    return np.array(x > 0, dtype = np.int)"
   ]
  },
  {
   "cell_type": "markdown",
   "metadata": {},
   "source": [
    "# sigmoid 函数\n",
    "\n",
    "$$\n",
    "h(x) = \\frac{1}{1 + exp(-x)}\n",
    "$$"
   ]
  },
  {
   "cell_type": "code",
   "execution_count": 7,
   "metadata": {},
   "outputs": [],
   "source": [
    "def sigmoid(x):\n",
    "    return 1 / (1 + np.exp(-x))"
   ]
  },
  {
   "cell_type": "markdown",
   "metadata": {},
   "source": [
    "> ### step 和 sigmoid 不同点\n",
    "> \n",
    "> 1. 平滑性\n",
    "> 2. 连续信号\n",
    "> \n",
    "> ### step 和 sigmoid 共同点\n",
    "> \n",
    "> 1. 形状像似\n",
    "> 2. 非线性函数\n",
    "\n",
    "# ReLU 函数"
   ]
  },
  {
   "cell_type": "code",
   "execution_count": 8,
   "metadata": {},
   "outputs": [],
   "source": [
    "def relu(x):\n",
    "    return np.maximum(0, x)"
   ]
  },
  {
   "cell_type": "code",
   "execution_count": 9,
   "metadata": {},
   "outputs": [
    {
     "data": {
      "image/png": "[encoded data removed]",
      "text/plain": [
       "<Figure size 432x288 with 1 Axes>"
      ]
     },
     "metadata": {
      "needs_background": "light"
     },
     "output_type": "display_data"
    }
   ],
   "source": [
    "# draw charts\n",
    "x = np.arange(-5.0, 5.0, 0.1)\n",
    "y_step = step_function(x)\n",
    "y_sigmoid = sigmoid(x)\n",
    "y_relu = relu(x)\n",
    "\n",
    "plt.plot(x, y_step, linestyle = \"--\", label = \"step\")\n",
    "plt.plot(x, y_sigmoid, label = \"sigmoid\")\n",
    "plt.plot(x, y_relu, color=\"yellow\", label = \"relu\")\n",
    "\n",
    "plt.ylim(-0.1, 2)\n",
    "plt.legend()\n",
    "plt.show()"
   ]
  }
 ],
 "metadata": {
  "kernelspec": {
   "display_name": "Python 3",
   "language": "python",
   "name": "python3"
  },
  "language_info": {
   "codemirror_mode": {
    "name": "ipython",
    "version": 3
   },
   "file_extension": ".py",
   "mimetype": "text/x-python",
   "name": "python",
   "nbconvert_exporter": "python",
   "pygments_lexer": "ipython3",
   "version": "3.7.2"
  }
 },
 "nbformat": 4,
 "nbformat_minor": 2
}
