{
 "cells": [
  {
   "cell_type": "markdown",
   "metadata": {},
   "source": [
    "感知机\n",
    "==="
   ]
  },
  {
   "cell_type": "code",
   "execution_count": 19,
   "metadata": {},
   "outputs": [],
   "source": [
    "import numpy as np\n",
    "\n",
    "ACTIVE = 1\n",
    "INACTIVE = 0\n",
    "\n",
    "# Curry\n",
    "def setArgs(func_name, w1, w2, b):\n",
    "\n",
    "    def getFunc(x1, x2):\n",
    "         w = np.array([w1, w2])\n",
    "         x = np.array([x1, x2])\n",
    "         temp = np.sum(w * x) + b\n",
    "         \n",
    "         if temp <= 0:\n",
    "            return 0\n",
    "         else:\n",
    "            return 1\n",
    "\n",
    "    getFunc.__name__ = func_name\n",
    "    \n",
    "    return getFunc\n",
    "\n",
    "def printFormula(opt_fun, a, b):\n",
    "    print(a, opt_fun.__name__, b, '=', opt_fun(a, b))"
   ]
  },
  {
   "cell_type": "markdown",
   "metadata": {},
   "source": [
    "# AND gate"
   ]
  },
  {
   "cell_type": "code",
   "execution_count": 20,
   "metadata": {},
   "outputs": [
    {
     "name": "stdout",
     "output_type": "stream",
     "text": [
      "0 AND 0 = 0\n",
      "1 AND 0 = 0\n",
      "0 AND 1 = 0\n",
      "1 AND 1 = 1\n"
     ]
    }
   ],
   "source": [
    "AND = setArgs('AND', 0.5, 0.5, -0.7)\n",
    "\n",
    "printFormula(AND, INACTIVE, INACTIVE)\n",
    "printFormula(AND, ACTIVE, INACTIVE)\n",
    "printFormula(AND, INACTIVE, ACTIVE)\n",
    "printFormula(AND, ACTIVE, ACTIVE)"
   ]
  },
  {
   "cell_type": "markdown",
   "metadata": {},
   "source": [
    "# NAND gate"
   ]
  },
  {
   "cell_type": "code",
   "execution_count": 21,
   "metadata": {},
   "outputs": [
    {
     "name": "stdout",
     "output_type": "stream",
     "text": [
      "0 NAND 0 = 1\n",
      "1 NAND 0 = 1\n",
      "0 NAND 1 = 1\n",
      "1 NAND 1 = 0\n"
     ]
    }
   ],
   "source": [
    "NAND = setArgs('NAND', -0.5, -0.5, 0.7)\n",
    "\n",
    "printFormula(NAND, INACTIVE, INACTIVE)\n",
    "printFormula(NAND, ACTIVE, INACTIVE)\n",
    "printFormula(NAND, INACTIVE, ACTIVE)\n",
    "printFormula(NAND, ACTIVE, ACTIVE)"
   ]
  },
  {
   "cell_type": "markdown",
   "metadata": {},
   "source": [
    "# OR gate"
   ]
  },
  {
   "cell_type": "code",
   "execution_count": 22,
   "metadata": {},
   "outputs": [
    {
     "name": "stdout",
     "output_type": "stream",
     "text": [
      "0 OR 0 = 0\n",
      "1 OR 0 = 1\n",
      "0 OR 1 = 1\n",
      "1 OR 1 = 1\n"
     ]
    }
   ],
   "source": [
    "OR = setArgs('OR', 0.5, 0.5, -0.3)\n",
    "\n",
    "printFormula(OR, INACTIVE, INACTIVE)\n",
    "printFormula(OR, ACTIVE, INACTIVE)\n",
    "printFormula(OR, INACTIVE, ACTIVE)\n",
    "printFormula(OR, ACTIVE, ACTIVE)"
   ]
  },
  {
   "cell_type": "markdown",
   "metadata": {},
   "source": [
    "> 以上三种门电路，是具有相同构造的感知机（可以为 **线性空间**），只有权重和偏置不同"
   ]
  },
  {
   "cell_type": "markdown",
   "metadata": {},
   "source": [
    "# XOR gate\n",
    "\n",
    "> 必须为 **非线性空间**，所以单层的感知机不能表示 XOR gate，需要用多层感知机"
   ]
  },
  {
   "cell_type": "code",
   "execution_count": 23,
   "metadata": {},
   "outputs": [
    {
     "name": "stdout",
     "output_type": "stream",
     "text": [
      "0 XOR 0 = 0\n",
      "1 XOR 0 = 1\n",
      "0 XOR 1 = 1\n",
      "1 XOR 1 = 0\n"
     ]
    }
   ],
   "source": [
    "def XOR(x1, x2):\n",
    "    s1 = NAND(x1, x2)\n",
    "    s2 = OR(x1, x2)\n",
    "    y = AND(s1, s2)\n",
    "    return y\n",
    "\n",
    "printFormula(XOR, INACTIVE, INACTIVE)\n",
    "printFormula(XOR, ACTIVE, INACTIVE)\n",
    "printFormula(XOR, INACTIVE, ACTIVE)\n",
    "printFormula(XOR, ACTIVE, ACTIVE)"
   ]
  },
  {
   "cell_type": "markdown",
   "metadata": {},
   "source": [
    "> 感知机通过叠加层可以进行非线性表示\n",
    "> \n",
    "> 理论上 2 层感知机（激活函数使用了非线性的 sigmoid 函数的感知机）可以表示任意函数"
   ]
  }
 ],
 "metadata": {
  "kernelspec": {
   "display_name": "Python 3",
   "language": "python",
   "name": "python3"
  },
  "language_info": {
   "codemirror_mode": {
    "name": "ipython",
    "version": 3
   },
   "file_extension": ".py",
   "mimetype": "text/x-python",
   "name": "python",
   "nbconvert_exporter": "python",
   "pygments_lexer": "ipython3",
   "version": "3.7.1"
  }
 },
 "nbformat": 4,
 "nbformat_minor": 2
}
